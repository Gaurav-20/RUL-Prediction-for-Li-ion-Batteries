{
 "cells": [
  {
   "cell_type": "markdown",
   "metadata": {},
   "source": [
    "## Version 03 -> Pred RUL"
   ]
  },
  {
   "cell_type": "code",
   "execution_count": 2,
   "metadata": {},
   "outputs": [
    {
     "name": "stdout",
     "output_type": "stream",
     "text": [
      "Requirement already satisfied: texttable in /home/yash/anaconda3/lib/python3.8/site-packages (1.6.3)\n",
      "3.8.5\n"
     ]
    }
   ],
   "source": [
    "!pip install texttable\n",
    "from platform import python_version\n",
    "print(python_version())"
   ]
  },
  {
   "cell_type": "code",
   "execution_count": 3,
   "metadata": {},
   "outputs": [
    {
     "name": "stdout",
     "output_type": "stream",
     "text": [
      "{132: ['B0018'], 168: ['B0005', 'B0006', 'B0007']}\n"
     ]
    }
   ],
   "source": [
    "# importing required libraries\n",
    "from scipy.io import loadmat\n",
    "import matplotlib.pyplot as plt\n",
    "import numpy as np\n",
    "from pprint import pprint as pp\n",
    "from sklearn.pipeline import make_pipeline\n",
    "from sklearn.preprocessing import StandardScaler\n",
    "from sklearn.model_selection import train_test_split\n",
    "from pprint import pprint\n",
    "from sklearn.linear_model import LinearRegression, Ridge, Lasso, BayesianRidge, ARDRegression, SGDRegressor\n",
    "from texttable import Texttable\n",
    "import math\n",
    "from sklearn.metrics import r2_score\n",
    "\n",
    "# getting the battery data\n",
    "# bs_all = [\n",
    "#     'B0005', 'B0006', 'B0007', 'B0018', 'B0025', 'B0026', 'B0027', 'B0028', 'B0029', 'B0030', 'B0031', 'B0032', \n",
    "#     'B0042', 'B0043', 'B0044', 'B0045', 'B0046', \n",
    "#     'B0047', 'B0048'\n",
    "# ]\n",
    "bs_all = [\n",
    "    'B0005', 'B0006', 'B0007', 'B0018'\n",
    "]\n",
    "ds = {}\n",
    "for b in bs_all:\n",
    "    ds[b] = loadmat(f'DATA/{b}.mat')\n",
    "    \n",
    "types = {}\n",
    "times = {}\n",
    "ambient_temperatures = {}\n",
    "datas = {}\n",
    "\n",
    "for b in bs_all:\n",
    "    x = ds[b][b][\"cycle\"][0][0][0]\n",
    "    ambient_temperatures[b] = x['ambient_temperature']\n",
    "    types[b] = x['type']\n",
    "    times[b] = x['time']\n",
    "    datas[b] = x['data']\n",
    "\n",
    "# clubbing all the compatible batteries together\n",
    "# Batteries are compatible if they were recorded under similar conditions\n",
    "# And their data size match up\n",
    "bs_compt = {}\n",
    "\n",
    "for b in bs_all:\n",
    "    sz = 0\n",
    "    for j in range(datas[b].size):\n",
    "        if types[b][j] == 'discharge':\n",
    "            sz += 1\n",
    "    if bs_compt.get(sz):\n",
    "        bs_compt[sz].append(b)\n",
    "    else: \n",
    "        bs_compt[sz] = [ b ]\n",
    "pp(bs_compt)\n",
    "BSSS = bs_compt"
   ]
  },
  {
   "cell_type": "code",
   "execution_count": 4,
   "metadata": {},
   "outputs": [],
   "source": [
    "## CRITICAL TIME POINTS FOR A CYCLE\n",
    "## We will only these critical points for furthur training\n",
    "\n",
    "## TEMPERATURE_MEASURED\n",
    "## => Time at highest temperature\n",
    "\n",
    "## VOLTAGE_MEASURED\n",
    "## => Time at lowest Voltage\n",
    "\n",
    "## VOLTAGE_LOAD\n",
    "## => First time it drops below 1 volt after 1500 time\n",
    "\n",
    "def getTemperatureMeasuredCritical(tm, time):\n",
    "    high = 0\n",
    "    critical = 0\n",
    "    for i in range(len(tm)):\n",
    "        if (tm[i] > high):\n",
    "            high = tm[i]\n",
    "            critical = time[i]\n",
    "    return critical\n",
    "\n",
    "def getVoltageMeasuredCritical(vm, time):\n",
    "    low = 1e9\n",
    "    critical = 0\n",
    "    for i in range(len(vm)):\n",
    "        if (vm[i] < low):\n",
    "            low = vm[i]\n",
    "            critical = time[i]\n",
    "    return critical\n",
    "\n",
    "def getVoltageLoadCritical(vl, time):\n",
    "    for i in range(len(vl)):\n",
    "        if (time[i] > 1500 and vl[i] < 1):\n",
    "            return time[i]\n",
    "    return -1"
   ]
  },
  {
   "cell_type": "markdown",
   "metadata": {},
   "source": [
    "## MODEL\n",
    "* Considering 1 Cycle for RUL estimation\n",
    "\n",
    "## Features\n",
    "* [CP1, CP2, CP3, Capacity] -> RUL\n",
    "\n",
    "## Remaining Useful Life\n",
    "* n = number of cycles above threshold\n",
    "* RUL of Battery after (cycle x) = (1 - (x / n)) * 100"
   ]
  },
  {
   "cell_type": "code",
   "execution_count": 5,
   "metadata": {},
   "outputs": [],
   "source": [
    "## X: Features\n",
    "## y: RUL\n",
    "## x: no. of cycles to merge\n",
    "def merge(X, y, x):\n",
    "    XX = []\n",
    "    yy = []\n",
    "    \n",
    "    sz = len(X)\n",
    "    for i in range(sz - x + 1):\n",
    "        curr = []\n",
    "        for j in range(x):\n",
    "            for a in X[i + j]:\n",
    "                curr.append(a)\n",
    "        XX.append(curr)\n",
    "#         val = 0\n",
    "#         for j in range(x):\n",
    "#             val += y[i + j]\n",
    "#         val /= x\n",
    "        yy.append(y[i + x - 1])\n",
    "        \n",
    "    return XX, yy"
   ]
  },
  {
   "cell_type": "code",
   "execution_count": 6,
   "metadata": {},
   "outputs": [],
   "source": [
    "## Data Structure\n",
    "    # Cycles[battery][param][cycle]\n",
    "    # Cycles[battery][Capacity][cycle]\n",
    "\n",
    "Cycles = {}\n",
    "params = ['Temperature_measured', 'Voltage_measured', 'Voltage_load', 'Time']\n",
    "\n",
    "rmses = []\n",
    "\n",
    "for bs_cmpt in bs_compt:\n",
    "    rmses.append([])\n",
    "\n",
    "# iterate over the merge hyper parameter\n",
    "for xx in range(1, 10):\n",
    "\n",
    "    results = Texttable()\n",
    "    results.add_row(['Compatible Batteries', 'Cycles', 'MAE', 'RMSE', 'R2 Score' ])\n",
    "    \n",
    "    loc = 0\n",
    "    \n",
    "    # iterate over all the battery sets\n",
    "    for bs_cmpt in bs_compt:\n",
    "        # getting data for a given set\n",
    "\n",
    "        # y contains RUL after current cycle\n",
    "        # model will train for y\n",
    "        y = []\n",
    "\n",
    "        bs = bs_compt[bs_cmpt]\n",
    "        for b in bs:\n",
    "            Cycles[b] = {}\n",
    "            for param in params:\n",
    "                Cycles[b][param] = []\n",
    "                for j in range(datas[b].size):\n",
    "                    if types[b][j] == 'discharge':\n",
    "                        Cycles[b][param].append(datas[b][j][param][0][0][0])\n",
    "\n",
    "            cap = []\n",
    "            for j in range(datas[b].size):\n",
    "                if types[b][j] == 'discharge':\n",
    "                    cap.append(datas[b][j]['Capacity'][0][0][0][0])\n",
    "            Cycles[b]['Capacity'] = np.array(cap)\n",
    "            Cycles[b]['count'] = len(Cycles[b][params[0]])\n",
    "\n",
    "            effective_cycle_count = 0\n",
    "            for x in Cycles[b]['Capacity']:\n",
    "                if (x < 1.4):\n",
    "                    break\n",
    "                effective_cycle_count += 1\n",
    "\n",
    "            for i in range(len(Cycles[b]['Capacity'])):\n",
    "                if (i < effective_cycle_count):\n",
    "                    y.append((1 - ((i + 1) / effective_cycle_count)) * 100)\n",
    "                else:\n",
    "                    y.append(0)\n",
    "\n",
    "        # preparing data for regression model\n",
    "        temperature_measured = []\n",
    "        voltage_measured = []\n",
    "        voltage_load = []\n",
    "        capacity = []\n",
    "\n",
    "        for b in bs:        \n",
    "            for c in Cycles[b]['Capacity']:\n",
    "                capacity.append(c)\n",
    "            for i in range(Cycles[b]['count']):\n",
    "                temperature_measured.append(getTemperatureMeasuredCritical(Cycles[b]['Temperature_measured'][i], Cycles[b]['Time'][i]))\n",
    "                voltage_measured.append(getVoltageMeasuredCritical(Cycles[b]['Voltage_measured'][i], Cycles[b]['Time'][i]))\n",
    "                voltage_load.append(getVoltageLoadCritical(Cycles[b]['Voltage_load'][i], Cycles[b]['Time'][i]))\n",
    "\n",
    "        # creating the model\n",
    "        X = []\n",
    "        for i in range(len(temperature_measured)):\n",
    "            X.append(np.array([temperature_measured[i], voltage_measured[i], voltage_load[i], capacity[i]]))\n",
    "    #     X.append(np.array(capacity))\n",
    "        X = np.array(X)\n",
    "        y = np.array(y)\n",
    "        \n",
    "        # merge cycles\n",
    "        X, y = merge(X, y, xx)\n",
    "\n",
    "        # creating train test split\n",
    "        X_train, X_test, y_train, y_test = train_test_split(X, y, test_size = 0.25, random_state = 0)\n",
    "\n",
    "        # fitting the model\n",
    "        regressor = LinearRegression()\n",
    "        regressor.fit(X_train, y_train)\n",
    "\n",
    "        # test\n",
    "        y_pred = regressor.predict(X_test)\n",
    "\n",
    "        # model evaluation\n",
    "        diff = 0\n",
    "        total = 0\n",
    "        rmse = 0\n",
    "        for i in range(len(y_test)):\n",
    "            diff += abs(y_test[i] - y_pred[i])\n",
    "            rmse += ((y_test[i] - y_pred[i]) * (y_test[i] - y_pred[i]))\n",
    "            total += y_test[i]\n",
    "        diff /= len(y_test)\n",
    "        total /= len(y_test)\n",
    "        rmse = math.sqrt(rmse / len(y_test))\n",
    "    #     accuracy = ((total - diff) / total) * 100\n",
    "        accuracy = r2_score(y_test, y_pred)\n",
    "\n",
    "        # Adding evaluation to result array to print in a table\n",
    "        results.add_row([ str(bs), str(Cycles[bs[0]]['count']), diff, rmse, accuracy ])\n",
    "        \n",
    "        rmses[loc].append(rmse)\n",
    "        loc += 1\n",
    "\n",
    "    # printing results\n",
    "#     print(f'Evaluation: Clubbing Compatible Batteries for cycle param: {xx}\\n{results.draw()}')"
   ]
  },
  {
   "cell_type": "code",
   "execution_count": 7,
   "metadata": {},
   "outputs": [],
   "source": [
    "# print(rmses)"
   ]
  },
  {
   "cell_type": "code",
   "execution_count": 8,
   "metadata": {},
   "outputs": [
    {
     "data": {
      "image/png": "[encoded data removed]",
      "text/plain": [
       "<Figure size 432x288 with 1 Axes>"
      ]
     },
     "metadata": {
      "needs_background": "light"
     },
     "output_type": "display_data"
    },
    {
     "data": {
      "image/png": "[encoded data removed]",
      "text/plain": [
       "<Figure size 432x288 with 1 Axes>"
      ]
     },
     "metadata": {
      "needs_background": "light"
     },
     "output_type": "display_data"
    }
   ],
   "source": [
    "for rm in rmses:\n",
    "    plt.plot(range(1, len(rm) + 1), rm)\n",
    "    plt.ylabel(\"Error\")\n",
    "    plt.show()"
   ]
  },
  {
   "cell_type": "code",
   "execution_count": 9,
   "metadata": {},
   "outputs": [],
   "source": [
    "def removeFromGroup(x):\n",
    "    loc = 0\n",
    "    y = {}\n",
    "    for a in x:\n",
    "        for b in x[a]:\n",
    "            y[loc] = [ b ]\n",
    "            loc += 1\n",
    "    return y"
   ]
  },
  {
   "cell_type": "code",
   "execution_count": 69,
   "metadata": {},
   "outputs": [
    {
     "name": "stdout",
     "output_type": "stream",
     "text": [
      "Requirement already satisfied: scikit-elm in /home/yash/anaconda3/lib/python3.8/site-packages (0.21a0)\n",
      "Requirement already satisfied: numpy in /home/yash/anaconda3/lib/python3.8/site-packages (from scikit-elm) (1.19.2)\n",
      "Requirement already satisfied: scipy in /home/yash/anaconda3/lib/python3.8/site-packages (from scikit-elm) (1.5.2)\n",
      "Requirement already satisfied: scikit-learn in /home/yash/anaconda3/lib/python3.8/site-packages (from scikit-elm) (0.23.2)\n",
      "Requirement already satisfied: threadpoolctl>=2.0.0 in /home/yash/anaconda3/lib/python3.8/site-packages (from scikit-learn->scikit-elm) (2.1.0)\n",
      "Requirement already satisfied: joblib>=0.11 in /home/yash/anaconda3/lib/python3.8/site-packages (from scikit-learn->scikit-elm) (0.17.0)\n",
      "Collecting pyswarm\n",
      "  Downloading pyswarm-0.6.tar.gz (4.3 kB)\n",
      "Requirement already satisfied, skipping upgrade: numpy in /home/yash/anaconda3/lib/python3.8/site-packages (from pyswarm) (1.19.2)\n",
      "Building wheels for collected packages: pyswarm\n",
      "  Building wheel for pyswarm (setup.py) ... \u001b[?25ldone\n",
      "\u001b[?25h  Created wheel for pyswarm: filename=pyswarm-0.6-py3-none-any.whl size=4480 sha256=2c06f1bc93849800c3649b918a31061779820c16992070affe402b2671f9516d\n",
      "  Stored in directory: /home/yash/.cache/pip/wheels/3b/48/7f/a9f4beb272837304aa8e55fda9c9b4243d23517d5b1349b052\n",
      "Successfully built pyswarm\n",
      "Installing collected packages: pyswarm\n",
      "Successfully installed pyswarm-0.6\n"
     ]
    }
   ],
   "source": [
    "!pip install scikit-elm\n",
    "!pip install --upgrade pyswarm"
   ]
  },
  {
   "cell_type": "code",
   "execution_count": 74,
   "metadata": {
    "scrolled": false
   },
   "outputs": [
    {
     "name": "stderr",
     "output_type": "stream",
     "text": [
      "\r",
      "  0%|          | 0/1 [00:00<?, ?it/s]"
     ]
    },
    {
     "name": "stdout",
     "output_type": "stream",
     "text": [
      "Stopping search: maximum iterations reached --> 100\n",
      "Stopping search: maximum iterations reached --> 100\n",
      "Stopping search: maximum iterations reached --> 100\n"
     ]
    },
    {
     "name": "stderr",
     "output_type": "stream",
     "text": [
      "100%|██████████| 1/1 [05:07<00:00, 307.22s/it]"
     ]
    },
    {
     "name": "stdout",
     "output_type": "stream",
     "text": [
      "Stopping search: maximum iterations reached --> 100\n"
     ]
    },
    {
     "name": "stderr",
     "output_type": "stream",
     "text": [
      "\n"
     ]
    }
   ],
   "source": [
    "## Data Structure\n",
    "    # Cycles[battery][param][cycle]\n",
    "    # Cycles[battery][Capacity][cycle]\n",
    "\n",
    "from sklearn.ensemble import RandomForestRegressor\n",
    "from tqdm import tqdm    \n",
    "    \n",
    "Cycles = {}\n",
    "params = ['Temperature_measured', 'Voltage_measured', 'Voltage_load', 'Time']\n",
    "\n",
    "# remove batteries from group\n",
    "bs_compt = BSSS\n",
    "bs_compt = removeFromGroup(bs_compt)\n",
    "\n",
    "\n",
    "rmses = []\n",
    "rmses_train = []\n",
    "\n",
    "for bs_cmpt in bs_compt:\n",
    "    rmses.append([bs_compt[bs_cmpt][0]])\n",
    "    rmses_train.append([bs_compt[bs_cmpt][0]])\n",
    "    \n",
    "\n",
    "hyper_params = []\n",
    "    \n",
    "# iterate over the merge hyper parameter\n",
    "for xx in tqdm(range(1, 41)):\n",
    "\n",
    "    results = Texttable()\n",
    "    results.add_row([ 'Compatible Batteries', 'Cycles', 'MAE', 'RMSE', 'R2 Score' ])\n",
    "    \n",
    "    loc = 0\n",
    "    \n",
    "    # iterate over all the battery sets\n",
    "    for bs_cmpt in bs_compt:\n",
    "        # getting data for a given set\n",
    "\n",
    "        # y contains RUL after current cycle\n",
    "        # model will train for y\n",
    "        y = []\n",
    "\n",
    "        bs = bs_compt[bs_cmpt]\n",
    "        for b in bs:\n",
    "            Cycles[b] = {}\n",
    "            for param in params:\n",
    "                Cycles[b][param] = []\n",
    "                for j in range(datas[b].size):\n",
    "                    if types[b][j] == 'discharge':\n",
    "                        Cycles[b][param].append(datas[b][j][param][0][0][0])\n",
    "\n",
    "            cap = []\n",
    "            for j in range(datas[b].size):\n",
    "                if types[b][j] == 'discharge':\n",
    "                    cap.append(datas[b][j]['Capacity'][0][0][0][0])\n",
    "            Cycles[b]['Capacity'] = np.array(cap)\n",
    "            Cycles[b]['count'] = len(Cycles[b][params[0]])\n",
    "\n",
    "            effective_cycle_count = 0\n",
    "            for x in Cycles[b]['Capacity']:\n",
    "                if (x < 1.4):\n",
    "                    break\n",
    "                effective_cycle_count += 1\n",
    "\n",
    "            for i in range(len(Cycles[b]['Capacity'])):\n",
    "                if (i < effective_cycle_count):\n",
    "                    y.append((1 - ((i + 1) / effective_cycle_count)) * 100)\n",
    "                else:\n",
    "                    y.append(0)\n",
    "\n",
    "        # preparing data for regression model\n",
    "        temperature_measured = []\n",
    "        voltage_measured = []\n",
    "        voltage_load = []\n",
    "        capacity = []\n",
    "\n",
    "        for b in bs:        \n",
    "            for c in Cycles[b]['Capacity']:\n",
    "                capacity.append(c)\n",
    "            for i in range(Cycles[b]['count']):\n",
    "                temperature_measured.append(getTemperatureMeasuredCritical(Cycles[b]['Temperature_measured'][i], Cycles[b]['Time'][i]))\n",
    "                voltage_measured.append(getVoltageMeasuredCritical(Cycles[b]['Voltage_measured'][i], Cycles[b]['Time'][i]))\n",
    "                voltage_load.append(getVoltageLoadCritical(Cycles[b]['Voltage_load'][i], Cycles[b]['Time'][i]))\n",
    "\n",
    "        # creating the model\n",
    "        X = []\n",
    "        for i in range(len(temperature_measured)):\n",
    "            X.append(np.array([temperature_measured[i], voltage_measured[i], voltage_load[i], capacity[i]]))\n",
    "    #     X.append(np.array(capacity))\n",
    "        X = np.array(X)\n",
    "        y = np.array(y)\n",
    "        \n",
    "        # merge cycles\n",
    "        X, y = merge(X, y, xx)\n",
    "\n",
    "        # creating train test split\n",
    "        X_train, X_test, y_train, y_test = train_test_split(X, y, test_size = 0.25, random_state = 0)\n",
    "        \n",
    "        ############## ------------------ MODEL ------------------- ####################\n",
    "        \n",
    "        ### Liner Regression with Ridge Regularization ###\n",
    "#         regressor = Ridge(alpha=0.5)\n",
    "#         regressor.fit(X_train, y_train)\n",
    "#         y_pred = regressor.predict(X_test)\n",
    "#         y_pred_train = regressor.predict(X_train)\n",
    "        \n",
    "        \n",
    "        ### ARDRegresssor ###\n",
    "#         regressor = ARDRegression()\n",
    "#         regressor.fit(X_train, y_train)\n",
    "#         y_pred = regressor.predict(X_test)\n",
    "#         y_pred_train = regressor.predict(X_train)\n",
    "        \n",
    "    \n",
    "        ### Bayes Model ###\n",
    "#         regressor = BayesianRidge()\n",
    "#         regressor.fit(X_train, y_train)\n",
    "#         y_pred = regressor.predict(X_test)\n",
    "#         y_pred_train = regressor.predict(X_train)\n",
    "        \n",
    "    \n",
    "        ## ELM Regressor with pso ###\n",
    "        from skelm import ELMRegressor\n",
    "        from pyswarm import pso\n",
    "        \n",
    "        def objective(aaa):\n",
    "            estimator = ELMRegressor(alpha = aaa[0], \n",
    "                                 n_neurons = aaa[1], \n",
    "                                 ufunc='relu', \n",
    "                                 include_original_features = False)\n",
    "        \n",
    "            estimator.fit(X_train, y_train)\n",
    "            y_pred = estimator.predict(X_test)\n",
    "            y_pred_train = estimator.predict(X_train)\n",
    "            \n",
    "            rmse = 0\n",
    "            for i in range(len(y_test)):\n",
    "                rmse += ((y_test[i] - y_pred[i]) * (y_test[i] - y_pred[i]))\n",
    "            rmse = math.sqrt(rmse / len(y_test))\n",
    "            \n",
    "            return rmse\n",
    "        \n",
    "        # bounds for hyper param\n",
    "        lb = [1, 10]\n",
    "        ub = [1e5, 2000]\n",
    "        \n",
    "        # optimizing\n",
    "        xopt, fopt = pso(objective, lb, ub)\n",
    "        \n",
    "        hyper_params.append(xopt)\n",
    "        \n",
    "        estimator = ELMRegressor(alpha = xopt[0], \n",
    "                                 n_neurons = xopt[1], \n",
    "                                 ufunc='relu', \n",
    "                                 include_original_features = False)\n",
    "        \n",
    "        estimator.fit(X_train, y_train)\n",
    "        y_pred = estimator.predict(X_test)\n",
    "        y_pred_train = estimator.predict(X_train)\n",
    "\n",
    "\n",
    "        ### Decision Tree ###\n",
    "#         from sklearn import tree\n",
    "#         regressor = tree.DecisionTreeRegressor()\n",
    "#         regressor.fit(X_train, y_train)\n",
    "#         y_pred = regressor.predict(X_test)\n",
    "#         y_pred_train = regressor.predict(X_train)\n",
    "\n",
    "#         ### Random Forest Regressor ### (BEST)\n",
    "#         regressor = RandomForestRegressor(max_depth =10, random_state= 0)\n",
    "#         regressor.fit(X_train, y_train)\n",
    "#         y_pred = regressor.predict(X_test)\n",
    "#         y_pred_train = regressor.predict(X_train)\n",
    "        \n",
    "        ############# ----------------- MODEL -------------------- #####################\n",
    "\n",
    "        # model evaluation\n",
    "        diff = 0\n",
    "        total = 0\n",
    "        rmse = 0\n",
    "        for i in range(len(y_test)):\n",
    "            diff += abs(y_test[i] - y_pred[i])\n",
    "            rmse += ((y_test[i] - y_pred[i]) * (y_test[i] - y_pred[i]))\n",
    "            total += y_test[i]\n",
    "        diff /= len(y_test)\n",
    "        total /= len(y_test)\n",
    "        rmse = math.sqrt(rmse / len(y_test))\n",
    "        accuracy2 = ((total - diff) / total) * 100\n",
    "        accuracy = r2_score(y_test, y_pred)\n",
    "\n",
    "        # Adding evaluation to result array to print in a table\n",
    "#         results.add_row([ str(bs), str(Cycles[bs[0]]['count']), diff, rmse, accuracy, accuracy2 ])\n",
    "        \n",
    "        rmses[loc].append(rmse)\n",
    "        \n",
    "        #### adding rmses of the train\n",
    "        rmse_train = 0\n",
    "        for i in range(len(y_train)):\n",
    "            rmse_train += ((y_train[i] - y_pred_train[i]) * (y_train[i] - y_pred_train[i]))\n",
    "        rmse_train = math.sqrt(rmse_train / len(y_train))\n",
    "        rmses_train[loc].append(rmse_train)\n",
    "        loc += 1\n",
    "\n",
    "    # printing results\n",
    "#     print(f'Evaluation: Clubbing Compatible Batteries for cycle param: {xx}\\n{results.draw()}')"
   ]
  },
  {
   "cell_type": "code",
   "execution_count": 76,
   "metadata": {
    "scrolled": false
   },
   "outputs": [
    {
     "name": "stdout",
     "output_type": "stream",
     "text": [
      "Minima Test: 3.1324679614322566, Merge: 1\n",
      "Minima Train: 3.3678472085947124, Merge: 1\n"
     ]
    },
    {
     "data": {
      "image/png": "[encoded data removed]",
      "text/plain": [
       "<Figure size 432x288 with 1 Axes>"
      ]
     },
     "metadata": {
      "needs_background": "light"
     },
     "output_type": "display_data"
    },
    {
     "name": "stdout",
     "output_type": "stream",
     "text": [
      "Minima Test: 6.533405726372786, Merge: 1\n",
      "Minima Train: 6.081996843608714, Merge: 1\n"
     ]
    },
    {
     "data": {
      "image/png": "[encoded data removed]",
      "text/plain": [
       "<Figure size 432x288 with 1 Axes>"
      ]
     },
     "metadata": {
      "needs_background": "light"
     },
     "output_type": "display_data"
    },
    {
     "name": "stdout",
     "output_type": "stream",
     "text": [
      "Minima Test: 2.431286385440626, Merge: 1\n",
      "Minima Train: 2.371609243205082, Merge: 1\n"
     ]
    },
    {
     "data": {
      "image/png": "[encoded data removed]",
      "text/plain": [
       "<Figure size 432x288 with 1 Axes>"
      ]
     },
     "metadata": {
      "needs_background": "light"
     },
     "output_type": "display_data"
    },
    {
     "name": "stdout",
     "output_type": "stream",
     "text": [
      "Minima Test: 4.362032509183203, Merge: 1\n",
      "Minima Train: 3.264671071703599, Merge: 1\n"
     ]
    },
    {
     "data": {
      "image/png": "[encoded data removed]",
      "text/plain": [
       "<Figure size 432x288 with 1 Axes>"
      ]
     },
     "metadata": {
      "needs_background": "light"
     },
     "output_type": "display_data"
    },
    {
     "ename": "NameError",
     "evalue": "name 'hyper_params' is not defined",
     "output_type": "error",
     "traceback": [
      "\u001b[0;31m---------------------------------------------------------------------------\u001b[0m",
      "\u001b[0;31mNameError\u001b[0m                                 Traceback (most recent call last)",
      "\u001b[0;32m<ipython-input-76-495fd4e7eef5>\u001b[0m in \u001b[0;36m<module>\u001b[0;34m\u001b[0m\n\u001b[1;32m     23\u001b[0m     \u001b[0mplt\u001b[0m\u001b[0;34m.\u001b[0m\u001b[0mylabel\u001b[0m\u001b[0;34m(\u001b[0m\u001b[0mrm\u001b[0m\u001b[0;34m[\u001b[0m\u001b[0;36m0\u001b[0m\u001b[0;34m]\u001b[0m\u001b[0;34m)\u001b[0m\u001b[0;34m\u001b[0m\u001b[0;34m\u001b[0m\u001b[0m\n\u001b[1;32m     24\u001b[0m     \u001b[0mplt\u001b[0m\u001b[0;34m.\u001b[0m\u001b[0mshow\u001b[0m\u001b[0;34m(\u001b[0m\u001b[0;34m)\u001b[0m\u001b[0;34m\u001b[0m\u001b[0;34m\u001b[0m\u001b[0m\n\u001b[0;32m---> 25\u001b[0;31m \u001b[0mprint\u001b[0m\u001b[0;34m(\u001b[0m\u001b[0;34mf\"Hyper Parameters: {hyper_params}\"\u001b[0m\u001b[0;34m)\u001b[0m\u001b[0;34m\u001b[0m\u001b[0;34m\u001b[0m\u001b[0m\n\u001b[0m",
      "\u001b[0;31mNameError\u001b[0m: name 'hyper_params' is not defined"
     ]
    }
   ],
   "source": [
    "for i in range(len(rmses)):\n",
    "    rm = rmses[i]\n",
    "    rm_train = rmses_train[i]\n",
    "    \n",
    "    mn = 100000\n",
    "    mn_train = 100000\n",
    "    loc, loc_train = -1, -1\n",
    "    for i in range(1, len(rm)):\n",
    "        if (mn > rm[i]):\n",
    "            mn = rm[i]\n",
    "            loc = i\n",
    "        \n",
    "        if (mn_train > rm_train[i]):\n",
    "            mn_train = rm_train[i]\n",
    "            loc_train = i\n",
    "            \n",
    "    print(f\"Minima Test: {mn}, Merge: {loc}\")\n",
    "    print(f\"Minima Train: {mn_train}, Merge: {loc_train}\")\n",
    "    \n",
    "    fig, ax = plt.subplots()\n",
    "    ax.plot(range(1, len(rm)), rm[1:])\n",
    "    ax.plot(range(1, len(rm)), rm_train[1:])\n",
    "    plt.ylabel(rm[0])\n",
    "    plt.show()\n",
    "print(f\"Hyper Parameters: {hyper_params}\")"
   ]
  },
  {
   "cell_type": "code",
   "execution_count": null,
   "metadata": {},
   "outputs": [],
   "source": []
  }
 ],
 "metadata": {
  "kernelspec": {
   "display_name": "Python 3",
   "language": "python",
   "name": "python3"
  },
  "language_info": {
   "codemirror_mode": {
    "name": "ipython",
    "version": 3
   },
   "file_extension": ".py",
   "mimetype": "text/x-python",
   "name": "python",
   "nbconvert_exporter": "python",
   "pygments_lexer": "ipython3",
   "version": "3.8.5"
  }
 },
 "nbformat": 4,
 "nbformat_minor": 4
}
