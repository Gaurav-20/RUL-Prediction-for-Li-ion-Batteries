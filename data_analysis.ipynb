{
 "cells": [
  {
   "cell_type": "markdown",
   "metadata": {},
   "source": [
    "```\n",
    "Data Structure:\n",
    "cycle:\ttop level structure array containing the charge, discharge and impedance operations\n",
    "\ttype: \toperation  type, can be charge, discharge or impedance\n",
    "\tambient_temperature:\tambient temperature (degree C)\n",
    "\ttime: \tthe date and time of the start of the cycle, in MATLAB  date vector format\n",
    "\t\n",
    "    data:\tdata structure containing the measurements\n",
    "    \n",
    "\t   for charge the fields are:\n",
    "                Voltage_measured: \t    Battery terminal voltage (Volts)\n",
    "                Current_measured:\t    Battery output current (Amps)\n",
    "                Temperature_measured: \tBattery temperature (degree C)\n",
    "                Current_charge:\t\t    Current measured at charger (Amps)\n",
    "                Voltage_charge:\t\t    Voltage measured at charger (Volts)\n",
    "                Time:\t\t\t        Time vector for the cycle (secs)\n",
    "                \n",
    "\t   for discharge the fields are:\n",
    "                Voltage_measured: \t    Battery terminal voltage (Volts)\n",
    "                Current_measured:\t    Battery output current (Amps)\n",
    "                Temperature_measured: \tBattery temperature (degree C)\n",
    "                Current_load:\t\t    Current measured at load (Amps)\n",
    "                Voltage_load:\t\t    Voltage measured at load (Volts)\n",
    "                Time:\t\t\t        Time vector for the cycle (secs)\n",
    "                Capacity:\t\t        Battery capacity (Ahr) for discharge till 2.7V \n",
    "                \n",
    "\t   for impedance the fields are:\n",
    "                Sense_current:\t\t    Current in sense branch (Amps)\n",
    "                Battery_current:\t    Current in battery branch (Amps)\n",
    "                Current_ratio:\t\t    Ratio of the above currents \n",
    "                Battery_impedance:\t    Battery impedance (Ohms) computed from raw data\n",
    "                Rectified_impedance:\tCalibrated and smoothed battery impedance (Ohms) \n",
    "                Re:\t\t\t            Estimated electrolyte resistance (Ohms)\n",
    "                Rct:\t\t\t        Estimated charge transfer resistance (Ohms)\n",
    "```"
   ]
  },
  {
   "cell_type": "code",
   "execution_count": 1,
   "metadata": {},
   "outputs": [],
   "source": [
    "%matplotlib qt"
   ]
  },
  {
   "cell_type": "code",
   "execution_count": 2,
   "metadata": {},
   "outputs": [],
   "source": [
    "from scipy.io import loadmat\n",
    "\n",
    "bs_all = [\n",
    "    'B0005',\n",
    "    'B0006',\n",
    "    'B0007',\n",
    "    'B0018',\n",
    "    'B0025',\n",
    "    'B0026',\n",
    "    'B0027',\n",
    "    'B0028',\n",
    "    'B0029',\n",
    "    'B0030',\n",
    "    'B0031',\n",
    "    'B0032',\n",
    "    'B0033',\n",
    "    'B0034',\n",
    "    'B0036',\n",
    "    'B0038',\n",
    "    'B0039',\n",
    "    'B0040',\n",
    "    'B0041',\n",
    "    'B0042',\n",
    "    'B0043',\n",
    "    'B0044',\n",
    "    'B0045',\n",
    "    'B0046',\n",
    "    'B0047',\n",
    "    'B0048',\n",
    "    'B0049',\n",
    "    'B0050',\n",
    "    'B0051',\n",
    "    'B0052',\n",
    "    'B0053',\n",
    "    'B0054',\n",
    "    'B0055',\n",
    "    'B0056',\n",
    "]\n",
    "\n",
    "bs = [\n",
    "    'B0005',\n",
    "    'B0006',\n",
    "    'B0007',\n",
    "]\n",
    "\n",
    "ds = []\n",
    "for b in bs:\n",
    "    ds.append(loadmat(f'DATA/{b}.mat'))\n",
    "    "
   ]
  },
  {
   "cell_type": "code",
   "execution_count": 3,
   "metadata": {},
   "outputs": [],
   "source": [
    "types = []\n",
    "times = []\n",
    "ambient_temperatures = []\n",
    "datas = []\n",
    "\n",
    "for i in range(len(ds)):\n",
    "    x = ds[i][bs[i]][\"cycle\"][0][0][0]\n",
    "    ambient_temperatures.append(x['ambient_temperature'])\n",
    "    types.append(x['type'])\n",
    "    times.append(x['time'])\n",
    "    datas.append(x['data'])"
   ]
  },
  {
   "cell_type": "code",
   "execution_count": 4,
   "metadata": {
    "scrolled": true
   },
   "outputs": [
    {
     "name": "stdout",
     "output_type": "stream",
     "text": [
      "Battery: B0005\n",
      "Cycles: 616\n",
      "\n",
      "Battery: B0006\n",
      "Cycles: 616\n",
      "\n",
      "Battery: B0007\n",
      "Cycles: 616\n",
      "\n"
     ]
    }
   ],
   "source": [
    "for i in range(len(ds)):\n",
    "    print(f'Battery: {bs[i]}')\n",
    "    print(f'Cycles: {datas[i].size}')\n",
    "    print()"
   ]
  },
  {
   "cell_type": "code",
   "execution_count": 5,
   "metadata": {},
   "outputs": [],
   "source": [
    "# Example data\n",
    "# print(f'Ambient Temp: {ambient_temperature[0]}')\n",
    "# print(f'Type: {type[0]}')\n",
    "# print(f'Time: {time[0]}')\n",
    "# print('Data:')\n",
    "# print('\\tVoltage_measured: ', data[0]['Voltage_measured'])\n",
    "# print('\\tCurrent_measured: ', data[0]['Current_measured'])\n",
    "# print('\\tTemperature_measured: ', data[0]['Temperature_measured'])\n",
    "# print('\\tCurrent_charge: ', data[0]['Current_charge'])\n",
    "# print('\\tVoltage_charge: ', data[0]['Voltage_charge'])\n",
    "# print('\\tTime: ', data[0]['Time'])"
   ]
  },
  {
   "cell_type": "code",
   "execution_count": 6,
   "metadata": {},
   "outputs": [],
   "source": [
    "import matplotlib.pyplot as plt\n",
    "import numpy as np"
   ]
  },
  {
   "cell_type": "markdown",
   "metadata": {},
   "source": [
    "## Charge All Cycles"
   ]
  },
  {
   "cell_type": "code",
   "execution_count": 8,
   "metadata": {},
   "outputs": [],
   "source": [
    "params = ['Voltage_measured', 'Current_measured', 'Temperature_measured', 'Current_charge', 'Voltage_charge']\n",
    "\n",
    "# for i in range(data.size):\n",
    "#     if type[i] == 'charge':\n",
    "#         plt.plot(data[i]['Time'][0][0][0], data[i]['Voltage_measured'][0][0][0])\n",
    "#         plt.xlabel('Time')\n",
    "#         plt.ylabel('Voltage_measured')\n",
    "\n",
    "for p in params:\n",
    "    fig, axs = plt.subplots((len(bs) + 1) // 2, 2)\n",
    "    param = p\n",
    "    for i in range(len(bs)):\n",
    "        for j in range(datas[i].size):\n",
    "            if types[i][j] == 'charge':\n",
    "\n",
    "                if i % 2 == 0:\n",
    "                    axs[i // 2, 0].plot(datas[i][j]['Time'][0][0][0], datas[i][j][param][0][0][0])\n",
    "                    axs[i // 2, 0].set_title(f'Battery: {bs[i]}')\n",
    "                else:\n",
    "                    axs[i // 2, 1].plot(datas[i][j]['Time'][0][0][0], datas[i][j][param][0][0][0])\n",
    "                    axs[i // 2, 1].set_title(f'Battery: {bs[i]}')\n",
    "    for ax in axs.flat:\n",
    "        ax.set(ylabel = param, xlabel = 'Time')\n",
    "    fig.tight_layout(pad = 0.3)"
   ]
  },
  {
   "cell_type": "markdown",
   "metadata": {},
   "source": [
    "## Charge First and Last Cycles"
   ]
  },
  {
   "cell_type": "code",
   "execution_count": 9,
   "metadata": {},
   "outputs": [],
   "source": [
    "for p in params:\n",
    "    \n",
    "    # Printing first cycles\n",
    "    \n",
    "    fig, axs = plt.subplots((len(bs) + 1) // 2, 2)\n",
    "    param = p\n",
    "    for i in range(len(bs)):\n",
    "        for j in range(20):\n",
    "            if types[i][j] == 'charge':\n",
    "                if i % 2 == 0:\n",
    "                    axs[i // 2, 0].plot(datas[i][j]['Time'][0][0][0], datas[i][j][param][0][0][0], label = f'{j + 1}')\n",
    "                    axs[i // 2, 0].set_title(f'Battery: {bs[i]}')\n",
    "                    axs[i // 2, 0].legend()\n",
    "                else:\n",
    "                    axs[i // 2, 1].plot(datas[i][j]['Time'][0][0][0], datas[i][j][param][0][0][0], label = f'{j + 1}')\n",
    "                    axs[i // 2, 1].set_title(f'Battery: {bs[i]}')\n",
    "                    axs[i // 2, 1].legend()\n",
    "    for ax in axs.flat:\n",
    "        ax.set(ylabel = param, xlabel = 'Time')\n",
    "    fig.tight_layout(pad = 0.3)\n",
    "\n",
    "    # Printing last cycles\n",
    "\n",
    "    fig, axs = plt.subplots((len(bs) + 1) // 2, 2)\n",
    "    for i in range(len(bs)):\n",
    "        for j in range(datas[i].size - 20, datas[i].size):\n",
    "            if types[i][j] == 'charge':\n",
    "                if i % 2 == 0:\n",
    "                    axs[i // 2, 0].plot(datas[i][j]['Time'][0][0][0], datas[i][j][param][0][0][0], label = f'{j + 1}')\n",
    "                    axs[i // 2, 0].set_title(f'Battery: {bs[i]}')\n",
    "                    axs[i // 2, 0].legend()\n",
    "                else:\n",
    "                    axs[i // 2, 1].plot(datas[i][j]['Time'][0][0][0], datas[i][j][param][0][0][0], label = f'{j + 1}')\n",
    "                    axs[i // 2, 1].set_title(f'Battery: {bs[i]}')\n",
    "                    axs[i // 2, 1].legend()\n",
    "\n",
    "    for ax in axs.flat:\n",
    "        ax.set(ylabel = param, xlabel = 'Time')\n",
    "    fig.tight_layout(pad = 0.3)"
   ]
  },
  {
   "cell_type": "markdown",
   "metadata": {},
   "source": [
    "## Discharge All Cycles"
   ]
  },
  {
   "cell_type": "code",
   "execution_count": 10,
   "metadata": {},
   "outputs": [],
   "source": [
    "params = ['Voltage_measured', 'Current_measured', 'Temperature_measured', 'Current_load', 'Voltage_load']\n",
    "\n",
    "for param in params:\n",
    "    fig, axs = plt.subplots((len(bs) + 1) // 2, 2)\n",
    "    for i in range(len(bs)):\n",
    "        for j in range(datas[i].size):\n",
    "            if types[i][j] == 'discharge':\n",
    "                if i % 2 == 0:\n",
    "                    axs[i // 2, 0].plot(datas[i][j]['Time'][0][0][0], datas[i][j][param][0][0][0], 'x')\n",
    "                    axs[i // 2, 0].set_title(f'Battery: {bs[i]}')\n",
    "                else:\n",
    "                    axs[i // 2, 1].plot(datas[i][j]['Time'][0][0][0], datas[i][j][param][0][0][0])\n",
    "                    axs[i // 2, 1].set_title(f'Battery: {bs[i]}')\n",
    "    for ax in axs.flat:\n",
    "        ax.set(ylabel = param, xlabel = 'Time')\n",
    "    fig.tight_layout(pad = 0.3)\n",
    "\n",
    "fig, axs = plt.subplots((len(bs) + 1) // 2, 2)\n",
    "for i in range(len(bs)):\n",
    "    cap = []\n",
    "    cycle = []\n",
    "    for j in range(datas[i].size):\n",
    "        if types[i][j] == 'discharge':\n",
    "            cap.append(datas[i][j]['Capacity'][0][0][0][0])\n",
    "            cycle.append(j)\n",
    "    if i % 2 == 0:\n",
    "        axs[i // 2, 0].plot(cycle, cap)\n",
    "        axs[i // 2, 0].set_title(f'Battery: {bs[i]}')\n",
    "    else:\n",
    "        axs[i // 2, 1].plot(cycle, cap)\n",
    "        axs[i // 2, 1].set_title(f'Battery: {bs[i]}')\n",
    "        \n",
    "    for ax in axs.flat:\n",
    "        ax.set(ylabel = 'Capacity', xlabel = 'Cycles')\n",
    "fig.tight_layout(pad = 0.3)"
   ]
  },
  {
   "cell_type": "markdown",
   "metadata": {},
   "source": [
    "## Discharge First and Last Cycles"
   ]
  },
  {
   "cell_type": "code",
   "execution_count": 13,
   "metadata": {},
   "outputs": [],
   "source": [
    "for p in params:\n",
    "    \n",
    "    # Printing first cycles\n",
    "    \n",
    "    fig, axs = plt.subplots((len(bs) + 1) // 2, 2)\n",
    "    param = p\n",
    "    for i in range(len(bs)):\n",
    "        for j in range(20):\n",
    "            if types[i][j] == 'discharge':\n",
    "                if i % 2 == 0:\n",
    "                    axs[i // 2, 0].plot(datas[i][j]['Time'][0][0][0], datas[i][j][param][0][0][0], label = f'{j + 1}')\n",
    "                    axs[i // 2, 0].set_title(f'Battery: {bs[i]}')\n",
    "                    axs[i // 2, 0].legend()\n",
    "                else:\n",
    "                    axs[i // 2, 1].plot(datas[i][j]['Time'][0][0][0], datas[i][j][param][0][0][0], label = f'{j + 1}')\n",
    "                    axs[i // 2, 1].set_title(f'Battery: {bs[i]}')\n",
    "                    axs[i // 2, 1].legend()\n",
    "    for ax in axs.flat:\n",
    "        ax.set(ylabel = param, xlabel = 'Time')\n",
    "    fig.tight_layout(pad = 0.3)\n",
    "\n",
    "    # Printing last cycles\n",
    "\n",
    "    fig, axs = plt.subplots((len(bs) + 1) // 2, 2)\n",
    "    for i in range(len(bs)):\n",
    "        for j in range(datas[i].size - 20, datas[i].size):\n",
    "            if types[i][j] == 'discharge':\n",
    "                if i % 2 == 0:\n",
    "                    axs[i // 2, 0].plot(datas[i][j]['Time'][0][0][0], datas[i][j][param][0][0][0], label = f'{j + 1}')\n",
    "                    axs[i // 2, 0].set_title(f'Battery: {bs[i]}')\n",
    "                    axs[i // 2, 0].legend()\n",
    "                else:\n",
    "                    axs[i // 2, 1].plot(datas[i][j]['Time'][0][0][0], datas[i][j][param][0][0][0], label = f'{j + 1}')\n",
    "                    axs[i // 2, 1].set_title(f'Battery: {bs[i]}')\n",
    "                    axs[i // 2, 1].legend()\n",
    "\n",
    "    for ax in axs.flat:\n",
    "        ax.set(ylabel = param, xlabel = 'Time')\n",
    "    fig.tight_layout(pad = 0.3)"
   ]
  },
  {
   "cell_type": "markdown",
   "metadata": {},
   "source": [
    "## Regression \n",
    "- We will only be using Discharge Cycles for Training and Testing"
   ]
  },
  {
   "cell_type": "code",
   "execution_count": 7,
   "metadata": {},
   "outputs": [],
   "source": [
    "## Data Structure\n",
    "## Cycles[battery][param][cycle]\n",
    "## Cycles[battery][Capacity][cycle]\n",
    "\n",
    "from pprint import pprint\n",
    "\n",
    "Cycles = {}\n",
    "params = ['Temperature_measured', 'Voltage_measured', 'Voltage_load', 'Time']\n",
    "\n",
    "for i in range(len(bs)):\n",
    "    Cycles[bs[i]] = {}\n",
    "    Cycles[bs[i]]['count'] = 168 # This is true for battery B0005, 06, 07\n",
    "    for param in params:\n",
    "        Cycles[bs[i]][param] = []\n",
    "        for j in range(datas[i].size):\n",
    "            if types[i][j] == 'discharge':\n",
    "                Cycles[bs[i]][param].append(datas[i][j][param][0][0][0])\n",
    "        \n",
    "    cap = []\n",
    "    for j in range(datas[i].size):\n",
    "        if types[i][j] == 'discharge':\n",
    "            cap.append(datas[i][j]['Capacity'][0][0][0][0])\n",
    "    Cycles[bs[i]]['Capacity'] = np.array(cap)"
   ]
  },
  {
   "cell_type": "markdown",
   "metadata": {},
   "source": [
    "## Regression Model\n",
    "\n",
    "## Features for Regression\n",
    "- Rather than using the time series of the cycles, we can extract critical time stamps from the time series\n",
    "- Regression model can be trained on these critical points\n",
    "- It will be more efficient and will be free from unnecessary noise\n",
    "- This will improve accuracy\n",
    "- Reduce training time since Gradient Descent will converge quickly"
   ]
  },
  {
   "cell_type": "code",
   "execution_count": 8,
   "metadata": {},
   "outputs": [],
   "source": [
    "## CRITICAL TIME POINTS FOR A CYCLE\n",
    "## We will only these critical points for furthur training\n",
    "\n",
    "## TEMPERATURE_MEASURED\n",
    "## => Time at highest temperature\n",
    "\n",
    "## VOLTAGE_MEASURED\n",
    "## => Time at lowest Voltage\n",
    "\n",
    "## VOLTAGE_LOAD\n",
    "## => First time it drops below 1 volt after 1500 time\n",
    "\n",
    "\n",
    "def getTemperatureMeasuredCritical(tm, time):\n",
    "    high = 0\n",
    "    critical = 0\n",
    "    for i in range(len(tm)):\n",
    "        if (tm[i] > high):\n",
    "            high = tm[i]\n",
    "            critical = time[i]\n",
    "    return critical\n",
    "\n",
    "def getVoltageMeasuredCritical(vm, time):\n",
    "    low = 1e9\n",
    "    critical = 0\n",
    "    for i in range(len(vm)):\n",
    "        if (vm[i] < low):\n",
    "            low = vm[i]\n",
    "            critical = time[i]\n",
    "    return critical\n",
    "\n",
    "def getVoltageLoadCritical(vl, time):\n",
    "    for i in range(len(vl)):\n",
    "        if (time[i] > 1500 and vl[i] < 1):\n",
    "            return time[i]\n",
    "    return -1"
   ]
  },
  {
   "cell_type": "code",
   "execution_count": 9,
   "metadata": {},
   "outputs": [
    {
     "name": "stdout",
     "output_type": "stream",
     "text": [
      "Temperature_Measured Critical points\n",
      "First Cycle:\t3366.781\n",
      "100th Cycle:\t2682.156\n",
      "Last Cycle:\t2393.578\n"
     ]
    }
   ],
   "source": [
    "# First Cycle\n",
    "f = getTemperatureMeasuredCritical(Cycles[bs[0]]['Temperature_measured'][0], Cycles[bs[0]]['Time'][0])\n",
    "\n",
    "# 100th Cycle\n",
    "m = getTemperatureMeasuredCritical(Cycles[bs[0]]['Temperature_measured'][100], Cycles[bs[0]]['Time'][100])\n",
    "\n",
    "# Last Cycle\n",
    "l = getTemperatureMeasuredCritical(Cycles[bs[0]]['Temperature_measured'][167], Cycles[bs[0]]['Time'][167])\n",
    "\n",
    "print(f'Temperature_Measured Critical points')\n",
    "print(f'First Cycle:\\t{f}')\n",
    "print(f'100th Cycle:\\t{m}')\n",
    "print(f'Last Cycle:\\t{l}')\n",
    "\n",
    "## Conclusion\n",
    "## !!BATTERY GET HOT QUICKER as they AGE!!"
   ]
  },
  {
   "cell_type": "code",
   "execution_count": 10,
   "metadata": {},
   "outputs": [
    {
     "name": "stdout",
     "output_type": "stream",
     "text": [
      "Voltage_measured Critical points\n",
      "First Cycle:\t3346.937\n",
      "100th Cycle:\t2662.828\n",
      "Last Cycle:\t2383.953\n"
     ]
    }
   ],
   "source": [
    "# First Cycle\n",
    "f = getVoltageMeasuredCritical(Cycles[bs[0]]['Voltage_measured'][0], Cycles[bs[0]]['Time'][0])\n",
    "\n",
    "# 100th Cycle\n",
    "m = getVoltageMeasuredCritical(Cycles[bs[0]]['Voltage_measured'][100], Cycles[bs[0]]['Time'][100])\n",
    "\n",
    "# Last Cycle\n",
    "l = getVoltageMeasuredCritical(Cycles[bs[0]]['Voltage_measured'][167], Cycles[bs[0]]['Time'][167])\n",
    "\n",
    "print(f'Voltage_measured Critical points')\n",
    "print(f'First Cycle:\\t{f}')\n",
    "print(f'100th Cycle:\\t{m}')\n",
    "print(f'Last Cycle:\\t{l}')\n",
    "\n",
    "## Conclusion\n",
    "## !!VOLTAGE HOLDS FOR LESS TIME as they AGE!!"
   ]
  },
  {
   "cell_type": "code",
   "execution_count": 11,
   "metadata": {},
   "outputs": [
    {
     "name": "stdout",
     "output_type": "stream",
     "text": [
      "Voltage_load Critical points\n",
      "First Cycle:\t3366.781\n",
      "100th Cycle:\t2672.515\n",
      "Last Cycle:\t2393.578\n"
     ]
    }
   ],
   "source": [
    "# First Cycle\n",
    "f = getVoltageLoadCritical(Cycles[bs[0]]['Voltage_load'][0], Cycles[bs[0]]['Time'][0])\n",
    "\n",
    "# 100th Cycle\n",
    "m = getVoltageLoadCritical(Cycles[bs[0]]['Voltage_load'][100], Cycles[bs[0]]['Time'][100])\n",
    "\n",
    "# Last Cycle\n",
    "l = getVoltageLoadCritical(Cycles[bs[0]]['Voltage_load'][167], Cycles[bs[0]]['Time'][167])\n",
    "\n",
    "print(f'Voltage_load Critical points')\n",
    "print(f'First Cycle:\\t{f}')\n",
    "print(f'100th Cycle:\\t{m}')\n",
    "print(f'Last Cycle:\\t{l}')\n",
    "\n",
    "## Conclusion\n",
    "## !!VOLTAGE HOLDS FOR LESS TIME as they AGE!!"
   ]
  },
  {
   "cell_type": "code",
   "execution_count": 12,
   "metadata": {},
   "outputs": [],
   "source": [
    "temperature_measured = []\n",
    "voltage_measured = []\n",
    "voltage_load = []\n",
    "capacity = Cycles[bs[0]]['Capacity']\n",
    "\n",
    "for i in range(Cycles[bs[0]]['count']):\n",
    "    temperature_measured.append(getTemperatureMeasuredCritical(Cycles[bs[0]]['Temperature_measured'][i], Cycles[bs[0]]['Time'][i]))\n",
    "    voltage_measured.append(getVoltageMeasuredCritical(Cycles[bs[0]]['Voltage_measured'][i], Cycles[bs[0]]['Time'][i]))\n",
    "    voltage_load.append(getVoltageLoadCritical(Cycles[bs[0]]['Voltage_load'][i], Cycles[bs[0]]['Time'][i]))"
   ]
  },
  {
   "cell_type": "code",
   "execution_count": 13,
   "metadata": {
    "scrolled": true
   },
   "outputs": [],
   "source": [
    "## Plotting (Critical Points) v/s (Cycles)\n",
    "\n",
    "fig, axs = plt.subplots(2, 2)\n",
    "axs[0, 0].plot(range(1, len(temperature_measured) + 1), temperature_measured)\n",
    "axs[0, 0].set(ylabel = 'Critical Points for TM', xlabel = 'Cycle')\n",
    "\n",
    "axs[0, 1].plot(range(1, len(voltage_measured) + 1), voltage_measured)\n",
    "axs[0, 1].set(ylabel = 'Critical Points for VM', xlabel = 'Cycle')\n",
    "\n",
    "axs[1, 0].plot(range(1, len(voltage_load) + 1), voltage_load)\n",
    "axs[1, 0].set(ylabel = 'Critical Points for VL', xlabel = 'Cycle')\n",
    "\n",
    "axs[1, 1].plot(range(1, len(voltage_measured) + 1), capacity)\n",
    "axs[1, 1].set(ylabel = 'Capacity', xlabel = 'Cycle')\n",
    "\n",
    "fig.tight_layout(pad = 0.3)"
   ]
  },
  {
   "cell_type": "markdown",
   "metadata": {},
   "source": [
    "## Training Regression Model"
   ]
  },
  {
   "cell_type": "code",
   "execution_count": 14,
   "metadata": {},
   "outputs": [],
   "source": [
    "X = []\n",
    "for i in range(Cycles[bs[0]]['count']):\n",
    "    X.append(np.array([temperature_measured[i], voltage_measured[i], voltage_load[i]]))\n",
    "X = np.array(X)\n",
    "y = np.array(capacity)"
   ]
  },
  {
   "cell_type": "code",
   "execution_count": 15,
   "metadata": {},
   "outputs": [],
   "source": [
    "from sklearn.model_selection import train_test_split\n",
    "X_train, X_test, y_train, y_test = train_test_split(X, y, test_size = 0.25, random_state = 0)"
   ]
  },
  {
   "cell_type": "code",
   "execution_count": 16,
   "metadata": {},
   "outputs": [
    {
     "data": {
      "text/plain": [
       "LinearRegression(copy_X=True, fit_intercept=True, n_jobs=None, normalize=False)"
      ]
     },
     "execution_count": 16,
     "metadata": {},
     "output_type": "execute_result"
    }
   ],
   "source": [
    "from sklearn.linear_model import LinearRegression\n",
    "regressor = LinearRegression()\n",
    "regressor.fit(X_train, y_train)"
   ]
  },
  {
   "cell_type": "code",
   "execution_count": 77,
   "metadata": {},
   "outputs": [],
   "source": [
    "y_pred = regressor.predict(X_test)"
   ]
  },
  {
   "cell_type": "code",
   "execution_count": 84,
   "metadata": {
    "scrolled": true
   },
   "outputs": [
    {
     "name": "stdout",
     "output_type": "stream",
     "text": [
      "Real:\t\t1.3395306867947354\n",
      "Predicted:\t1.339515171871504\n",
      "Difference:\t1.551492323148551e-05\n",
      "\n",
      "Real:\t\t1.710533351135192\n",
      "Predicted:\t1.7103914339234982\n",
      "Difference:\t0.000141917211693654\n",
      "\n",
      "Real:\t\t1.4012037783587625\n",
      "Predicted:\t1.4013002172807059\n",
      "Difference:\t-9.643892194333148e-05\n",
      "\n",
      "Real:\t\t1.6849029086609286\n",
      "Predicted:\t1.684902996612127\n",
      "Difference:\t-8.795119832427645e-08\n",
      "\n",
      "Real:\t\t1.480413677976106\n",
      "Predicted:\t1.4805395355986004\n",
      "Difference:\t-0.00012585762249450738\n",
      "\n",
      "Real:\t\t1.7468706179837907\n",
      "Predicted:\t1.7470200643358968\n",
      "Difference:\t-0.00014944635210611956\n",
      "\n",
      "Real:\t\t1.8257567905665537\n",
      "Predicted:\t1.825368914604555\n",
      "Difference:\t0.0003878759619986294\n",
      "\n",
      "Real:\t\t1.8356616600675495\n",
      "Predicted:\t1.8353265229976998\n",
      "Difference:\t0.00033513706984966696\n",
      "\n",
      "Real:\t\t1.5285252629756445\n",
      "Predicted:\t1.528224234665542\n",
      "Difference:\t0.00030102831010259123\n",
      "\n",
      "Real:\t\t1.3647827949260758\n",
      "Predicted:\t1.3648899789581703\n",
      "Difference:\t-0.00010718403209453164\n",
      "\n",
      "Real:\t\t1.7263217239235826\n",
      "Predicted:\t1.7263753119227183\n",
      "Difference:\t-5.358799913568468e-05\n",
      "\n",
      "Real:\t\t1.5169573017136326\n",
      "Predicted:\t1.5170475927918339\n",
      "Difference:\t-9.029107820124338e-05\n",
      "\n",
      "Real:\t\t1.3077959946944353\n",
      "Predicted:\t1.3078326890865095\n",
      "Difference:\t-3.6694392074210214e-05\n",
      "\n",
      "Real:\t\t1.4752095869031632\n",
      "Predicted:\t1.4750935552950268\n",
      "Difference:\t0.0001160316081363355\n",
      "\n",
      "Real:\t\t1.6015142233917594\n",
      "Predicted:\t1.6015401277537562\n",
      "Difference:\t-2.5904361996786918e-05\n",
      "\n",
      "Real:\t\t1.7418496047960008\n",
      "Predicted:\t1.741751442504636\n",
      "Difference:\t9.816229136472288e-05\n",
      "\n",
      "Real:\t\t1.590369231400328\n",
      "Predicted:\t1.5905621922695108\n",
      "Difference:\t-0.0001929608691828566\n",
      "\n",
      "Real:\t\t1.5015453526671363\n",
      "Predicted:\t1.5015472785158048\n",
      "Difference:\t-1.925848668538066e-06\n",
      "\n",
      "Real:\t\t1.349314997503458\n",
      "Predicted:\t1.3495544920490699\n",
      "Difference:\t-0.00023949454561189576\n",
      "\n",
      "Real:\t\t1.5065638960681105\n",
      "Predicted:\t1.5062971272894448\n",
      "Difference:\t0.0002667687786657158\n",
      "\n",
      "Real:\t\t1.4541462067235693\n",
      "Predicted:\t1.4537442518986943\n",
      "Difference:\t0.0004019548248750393\n",
      "\n",
      "Real:\t\t1.4539012274845928\n",
      "Predicted:\t1.4539789603557296\n",
      "Difference:\t-7.773287113677085e-05\n",
      "\n",
      "Real:\t\t1.3601216766554785\n",
      "Predicted:\t1.3601019084151613\n",
      "Difference:\t1.9768240317130648e-05\n",
      "\n",
      "Real:\t\t1.3090153642307354\n",
      "Predicted:\t1.3088996810194276\n",
      "Difference:\t0.00011568321130783765\n",
      "\n",
      "Real:\t\t1.7158065389330133\n",
      "Predicted:\t1.7158702462190059\n",
      "Difference:\t-6.37072859925869e-05\n",
      "\n",
      "Real:\t\t1.3290286565120697\n",
      "Predicted:\t1.3291109213010486\n",
      "Difference:\t-8.226478897888079e-05\n",
      "\n",
      "Real:\t\t1.8147691941158939\n",
      "Predicted:\t1.8147975651982582\n",
      "Difference:\t-2.8371082364309075e-05\n",
      "\n",
      "Real:\t\t1.3340066759761655\n",
      "Predicted:\t1.3341790057054577\n",
      "Difference:\t-0.0001723297292921533\n",
      "\n",
      "Real:\t\t1.3134751321324272\n",
      "Predicted:\t1.3134172650656182\n",
      "Difference:\t5.786706680899201e-05\n",
      "\n",
      "Real:\t\t1.8093079637028517\n",
      "Predicted:\t1.8094853672883773\n",
      "Difference:\t-0.00017740358552553737\n",
      "\n",
      "Real:\t\t1.8247738529891333\n",
      "Predicted:\t1.8245486353947544\n",
      "Difference:\t0.00022521759437887923\n",
      "\n",
      "Real:\t\t1.455023751906683\n",
      "Predicted:\t1.4546906225462102\n",
      "Difference:\t0.00033312936047291686\n",
      "\n",
      "Real:\t\t1.406981663677643\n",
      "Predicted:\t1.4070977415801702\n",
      "Difference:\t-0.00011607790252710082\n",
      "\n",
      "Real:\t\t1.7829230484252723\n",
      "Predicted:\t1.783155007035911\n",
      "Difference:\t-0.00023195861063873835\n",
      "\n",
      "Real:\t\t1.6744741591159717\n",
      "Predicted:\t1.674400946363878\n",
      "Difference:\t7.321275209370981e-05\n",
      "\n",
      "Real:\t\t1.7517304870664143\n",
      "Predicted:\t1.7518862732702731\n",
      "Difference:\t-0.0001557862038588098\n",
      "\n",
      "Real:\t\t1.8255815042203762\n",
      "Predicted:\t1.8258411849599645\n",
      "Difference:\t-0.0002596807395882639\n",
      "\n",
      "Real:\t\t1.663716375981405\n",
      "Predicted:\t1.6641192955499142\n",
      "Difference:\t-0.00040291956850913024\n",
      "\n",
      "Real:\t\t1.605818899130659\n",
      "Predicted:\t1.6056249372386517\n",
      "Difference:\t0.0001939618920072661\n",
      "\n",
      "Real:\t\t1.8470259949329193\n",
      "Predicted:\t1.8469271130668001\n",
      "Difference:\t9.888186611917149e-05\n",
      "\n",
      "Real:\t\t1.3705085566270399\n",
      "Predicted:\t1.3706726887691763\n",
      "Difference:\t-0.00016413214213639726\n",
      "\n",
      "Real:\t\t1.323872422244268\n",
      "Predicted:\t1.323788047952543\n",
      "Difference:\t8.437429172492017e-05\n",
      "\n"
     ]
    }
   ],
   "source": [
    "for i in range(len(y_test)):\n",
    "    print(f'Real:\\t\\t{y_test[i]}')\n",
    "    print(f'Predicted:\\t{y_pred[i]}')\n",
    "    print(f'Difference:\\t{(y_test[i] - y_pred[i])}')\n",
    "    print()"
   ]
  },
  {
   "cell_type": "code",
   "execution_count": 89,
   "metadata": {},
   "outputs": [
    {
     "name": "stdout",
     "output_type": "stream",
     "text": [
      "Average Difference Between Predicted and Real Capacities: 0.0001504458509620327\n",
      "Accuracy: 99.9903768373228\n"
     ]
    }
   ],
   "source": [
    "diff = 0\n",
    "total = 0\n",
    "for i in range(len(y_test)):\n",
    "    diff += abs(y_test[i] - y_pred[i])\n",
    "    total += y_test[i]\n",
    "diff /= len(y_test)\n",
    "total /= len(y_test)\n",
    "accuracy = ((total - diff) / total) * 100\n",
    "print(f'Average Difference Between Predicted and Real Capacities: {diff}')\n",
    "print(f'Accuracy: {accuracy}')"
   ]
  },
  {
   "cell_type": "markdown",
   "metadata": {},
   "source": [
    "## Conclusion\n",
    "* "
   ]
  }
 ],
 "metadata": {
  "kernelspec": {
   "display_name": "Python 3",
   "language": "python",
   "name": "python3"
  },
  "language_info": {
   "codemirror_mode": {
    "name": "ipython",
    "version": 3
   },
   "file_extension": ".py",
   "mimetype": "text/x-python",
   "name": "python",
   "nbconvert_exporter": "python",
   "pygments_lexer": "ipython3",
   "version": "3.7.6"
  }
 },
 "nbformat": 4,
 "nbformat_minor": 4
}
